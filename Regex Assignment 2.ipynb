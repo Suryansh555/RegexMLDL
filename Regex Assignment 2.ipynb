{
 "cells": [
  {
   "cell_type": "markdown",
   "metadata": {},
   "source": [
    "## Question 1\n",
    "Lambda expression to extract first word of a string."
   ]
  },
  {
   "cell_type": "code",
   "execution_count": 1,
   "metadata": {},
   "outputs": [
    {
     "name": "stdout",
     "output_type": "stream",
     "text": [
      "R\n"
     ]
    }
   ],
   "source": [
    "A = lambda B : B.split()[0][0]\n",
    "print(A('Regex'))"
   ]
  },
  {
   "cell_type": "markdown",
   "metadata": {},
   "source": [
    "## Question 2\n",
    "lambda expression to extract first word of a string."
   ]
  },
  {
   "cell_type": "code",
   "execution_count": 2,
   "metadata": {},
   "outputs": [
    {
     "name": "stdout",
     "output_type": "stream",
     "text": [
      "Welcome\n"
     ]
    }
   ],
   "source": [
    "x = lambda a : a.split()[0]\n",
    "print(x('Welcome Regex'))"
   ]
  },
  {
   "cell_type": "markdown",
   "metadata": {},
   "source": [
    "## Question 3\n",
    "Getting first word of all the strings using map function"
   ]
  },
  {
   "cell_type": "code",
   "execution_count": 3,
   "metadata": {},
   "outputs": [
    {
     "data": {
      "text/plain": [
       "['Welcome', 'Machine', 'And', 'Training']"
      ]
     },
     "execution_count": 3,
     "metadata": {},
     "output_type": "execute_result"
    }
   ],
   "source": [
    "lst = ['Welcome To Regex','Machine Learning','And Deep Learning','Training']\n",
    "list(map(x, lst))"
   ]
  },
  {
   "cell_type": "markdown",
   "metadata": {},
   "source": [
    "## Question 4\n",
    "Write a function to return a list of prime factors of a given number."
   ]
  },
  {
   "cell_type": "code",
   "execution_count": 48,
   "metadata": {},
   "outputs": [
    {
     "name": "stdout",
     "output_type": "stream",
     "text": [
      "[2, 5, 5, 5]\n",
      "['This is prime number']\n"
     ]
    }
   ],
   "source": [
    "import math\n",
    "def check_prime(x):\n",
    "    for i in range(2,x):\n",
    "        if x % i == 0:\n",
    "            flag = False\n",
    "            break\n",
    "        else:\n",
    "            flag = True\n",
    "        \n",
    "    return flag\n",
    "\n",
    "def prime_factor(x):\n",
    "    factors = []\n",
    "    check = check_prime(x)\n",
    "    if not(check):\n",
    "        i = 2\n",
    "        while i <= x:            \n",
    "            if(x % i == 0):\n",
    "                factors.append(i)\n",
    "                x = math.floor(x // i)\n",
    "            else: \n",
    "                i += 1\n",
    "\n",
    "    else:\n",
    "        factors.append('This is prime number')\n",
    "        \n",
    "    return factors\n",
    "\n",
    "print(prime_factor(250))\n",
    "print(prime_factor(71))"
   ]
  },
  {
   "cell_type": "markdown",
   "metadata": {},
   "source": [
    "## Question 5\n",
    "Write a function to find 2nd largest among 4 numbers"
   ]
  },
  {
   "cell_type": "code",
   "execution_count": 5,
   "metadata": {},
   "outputs": [
    {
     "name": "stdout",
     "output_type": "stream",
     "text": [
      "Enter the Values : 5\n",
      "Enter the Values : 4\n",
      "Enter the Values : 3\n",
      "Enter the Values : 2\n",
      "[5, 4, 3, 2]\n"
     ]
    },
    {
     "data": {
      "text/plain": [
       "4"
      ]
     },
     "execution_count": 5,
     "metadata": {},
     "output_type": "execute_result"
    }
   ],
   "source": [
    "lst = []\n",
    "\n",
    "for i in range(4) :\n",
    "    inp = int(input(\"Enter the Values : \"))\n",
    "    lst.append(inp)\n",
    "print(lst)\n",
    "\n",
    "def sec_largest() :\n",
    "    max_num = max(lst) \n",
    "    return max(lst, key = lambda x : min(lst)-1 if (x == max_num) else x)\n",
    "\n",
    "sec_largest()"
   ]
  },
  {
   "cell_type": "code",
   "execution_count": null,
   "metadata": {},
   "outputs": [],
   "source": []
  }
 ],
 "metadata": {
  "kernelspec": {
   "display_name": "Python 3",
   "language": "python",
   "name": "python3"
  },
  "language_info": {
   "codemirror_mode": {
    "name": "ipython",
    "version": 3
   },
   "file_extension": ".py",
   "mimetype": "text/x-python",
   "name": "python",
   "nbconvert_exporter": "python",
   "pygments_lexer": "ipython3",
   "version": "3.8.3"
  }
 },
 "nbformat": 4,
 "nbformat_minor": 5
}
