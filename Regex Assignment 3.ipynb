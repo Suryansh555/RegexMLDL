{
 "cells": [
  {
   "cell_type": "markdown",
   "metadata": {},
   "source": [
    "## Question 1"
   ]
  },
  {
   "cell_type": "markdown",
   "metadata": {},
   "source": [
    "Write a function to return nth term of Fibonacci sequence."
   ]
  },
  {
   "cell_type": "code",
   "execution_count": 13,
   "metadata": {},
   "outputs": [
    {
     "name": "stdout",
     "output_type": "stream",
     "text": [
      "Enter value of n - 24\n",
      "nth term Fibonacci is 46368\n"
     ]
    }
   ],
   "source": [
    "def Fibonacci(n):\n",
    "    fi = 1 \n",
    "    se = 1 \n",
    "    if n <= 2 :\n",
    "        return 1 \n",
    "    for i in range(2,n):\n",
    "        val = fi + se \n",
    "        fi = se \n",
    "        se = val\n",
    "    return val  \n",
    "\n",
    "num = input(\"Enter value of n - \")\n",
    "print(\"nth term Fibonacci is\" , Fibonacci(int(num)))      "
   ]
  },
  {
   "cell_type": "markdown",
   "metadata": {},
   "source": [
    "## Question 2"
   ]
  },
  {
   "cell_type": "markdown",
   "metadata": {},
   "source": [
    "Write a function to find out GCD of two numbers using EUCLID'S algorithm."
   ]
  },
  {
   "cell_type": "code",
   "execution_count": 20,
   "metadata": {},
   "outputs": [
    {
     "name": "stdout",
     "output_type": "stream",
     "text": [
      "Enter first Number : 10\n",
      "Enter second Number : 15\n",
      "GCD of 10 and 15 is 5\n"
     ]
    }
   ],
   "source": [
    "def gcd(n1, n2) :\n",
    "    if n2 == 0 :\n",
    "        return n1\n",
    "    else :\n",
    "        return gcd(n2, n1 % n2)\n",
    "    \n",
    "inp1 = int(input(\"Enter first Number : \"))\n",
    "inp2 = int(input(\"Enter second Number : \"))\n",
    "print(\"GCD of\" , inp1 ,\"and\", inp2 ,\"is\" ,  gcd(inp1, inp2))\n",
    "      "
   ]
  },
  {
   "cell_type": "markdown",
   "metadata": {},
   "source": [
    "## Question 3"
   ]
  },
  {
   "cell_type": "markdown",
   "metadata": {},
   "source": [
    "Write a function to find LCM of two number in most optimizers way"
   ]
  },
  {
   "cell_type": "code",
   "execution_count": 23,
   "metadata": {},
   "outputs": [
    {
     "name": "stdout",
     "output_type": "stream",
     "text": [
      "Enter first Number : 10\n",
      "Enter second Number : 20\n",
      "LCM of 10 and 20 is 20.0\n"
     ]
    }
   ],
   "source": [
    "# Using Above GCD Function\n",
    "def lcm(n1, n2) :\n",
    "    return (n1 / gcd(n1,n2)) * n2\n",
    "\n",
    "inp1 = int(input(\"Enter first Number : \"))\n",
    "inp2 = int(input(\"Enter second Number : \"))\n",
    "print(\"LCM of\", inp1, \"and\" , inp2 , \"is\" , lcm(inp1, inp2))"
   ]
  }
 ],
 "metadata": {
  "kernelspec": {
   "display_name": "Python 3",
   "language": "python",
   "name": "python3"
  },
  "language_info": {
   "codemirror_mode": {
    "name": "ipython",
    "version": 3
   },
   "file_extension": ".py",
   "mimetype": "text/x-python",
   "name": "python",
   "nbconvert_exporter": "python",
   "pygments_lexer": "ipython3",
   "version": "3.8.3"
  }
 },
 "nbformat": 4,
 "nbformat_minor": 4
}
