{
 "cells": [
  {
   "cell_type": "markdown",
   "metadata": {},
   "source": [
    "## Q1. Given a list of integers, write a function to return the sum of all prime numbers in that list."
   ]
  },
  {
   "cell_type": "code",
   "execution_count": 2,
   "metadata": {},
   "outputs": [
    {
     "name": "stdout",
     "output_type": "stream",
     "text": [
      "Enter lower range: 5\n",
      "Enter upper range: 10\n",
      "Prime numbers between 5 and 10 are:\n",
      "5\n",
      "7\n",
      "sum of all prime numbers in the list are : 12\n"
     ]
    }
   ],
   "source": [
    "lower = int(input(\"Enter lower range: \"))\n",
    "upper = int(input(\"Enter upper range: \"))\n",
    "\n",
    "# To check prime or not\n",
    "def checkprime(num):\n",
    "    for i in range(2,num):\n",
    "        if (num % i) == 0:\n",
    "            return 0 \n",
    "    else:\n",
    "        return 1\n",
    "# checks for prime for all elements in range and calcaulate sum \n",
    "def SumofPrime(lower,upper):\n",
    "    sum = 0\n",
    "    print(\"Prime numbers between\",lower,\"and\",upper,\"are:\")\n",
    "    for num in range(lower,upper + 1):\n",
    "        if(checkprime(num)):\n",
    "            print(num)\n",
    "            sum += num \n",
    "    print('sum of all prime numbers in the list are : %d'%sum)\n",
    "    \n",
    "SumofPrime(lower,upper)\n",
    "            \n",
    "            "
   ]
  },
  {
   "cell_type": "markdown",
   "metadata": {},
   "source": [
    "## Q2. Given a list of integers, write a function to check whether the list is strictly increasing or not."
   ]
  },
  {
   "cell_type": "code",
   "execution_count": 7,
   "metadata": {},
   "outputs": [
    {
     "name": "stdout",
     "output_type": "stream",
     "text": [
      "Enter the number of element - 5 \n",
      "Enter Element - 1\n",
      "Enter Element - 2\n",
      "Enter Element - 3\n",
      "Enter Element - 4\n",
      "Enter Element - 5\n",
      "list : [1, 2, 3, 4, 5]\n",
      "List strictly increasing - True\n"
     ]
    }
   ],
   "source": [
    "def StrictlyIncreasing(lst):\n",
    "    res = all(i < j for i, j in zip(lst, lst[1:]))\n",
    "    print(\"List strictly increasing - \" + str(res))\n",
    "    \n",
    "size = int(input(\"Enter the number of element - \"))\n",
    "lst = []\n",
    "for i in range(size):\n",
    "    val = int(input(\"Enter Element - \"))\n",
    "    lst.append(val)\n",
    "    \n",
    "# Original List \n",
    "print (\"list : \" + str(lst))\n",
    "StrictlyIncreasing(lst)    "
   ]
  },
  {
   "cell_type": "markdown",
   "metadata": {},
   "source": [
    "## Q3.Write a function to check whether a given list is expanding or not (the difference between adjacent elements should keep on increasing)."
   ]
  },
  {
   "cell_type": "code",
   "execution_count": 8,
   "metadata": {},
   "outputs": [
    {
     "name": "stdout",
     "output_type": "stream",
     "text": [
      "Enter number of elements - 3\n",
      "Enter the numbers : 1 3 7\n",
      "[1, 3, 7]\n",
      "List is expanding:  True\n"
     ]
    }
   ],
   "source": [
    "def isexpanding(lst):\n",
    "    if(len(lst) == 1):\n",
    "        return True\n",
    "    diff = lst[1]-lst[0]\n",
    "    check = True \n",
    "    for i in range(2,len(lst)):\n",
    "        diff1 = lst[i]-lst[i-1]\n",
    "        if diff >= diff1:\n",
    "            check = False\n",
    "            break\n",
    "        diff = diff1\n",
    "    return check    \n",
    "        \n",
    "num = int(input(\"Enter number of elements - \"))\n",
    "lst = list(map(int,input(\"Enter the numbers : \").strip().split()))[:num]\n",
    "print(lst)\n",
    "print('List is expanding: ', isexpanding(lst))"
   ]
  },
  {
   "cell_type": "markdown",
   "metadata": {},
   "source": [
    "## Q4.Write a function to calculate all permutations of a given string. (Without using itertools)"
   ]
  },
  {
   "cell_type": "code",
   "execution_count": 11,
   "metadata": {},
   "outputs": [
    {
     "name": "stdout",
     "output_type": "stream",
     "text": [
      "Enter String - abc\n",
      "Resultant permutations ['abc', 'acb', 'bac', 'bca', 'cba', 'cab']\n"
     ]
    }
   ],
   "source": [
    "def permute(data, length , i = 0):\n",
    "    if i == length:\n",
    "        result.append(''.join(data) )\n",
    "    else:\n",
    "        for j in range(i, length):\n",
    "            data[i], data[j] = data[j], data[i]\n",
    "            permute(data,length,i + 1)\n",
    "            data[i], data[j] = data[j], data[i] \n",
    "            \n",
    "result = []\n",
    "\n",
    "ini_str = input(\"Enter String - \")\n",
    "permute(list(ini_str),len(ini_str))\n",
    "print(\"Resultant permutations\", str(result))"
   ]
  },
  {
   "cell_type": "code",
   "execution_count": null,
   "metadata": {},
   "outputs": [],
   "source": []
  }
 ],
 "metadata": {
  "kernelspec": {
   "display_name": "Python 3",
   "language": "python",
   "name": "python3"
  },
  "language_info": {
   "codemirror_mode": {
    "name": "ipython",
    "version": 3
   },
   "file_extension": ".py",
   "mimetype": "text/x-python",
   "name": "python",
   "nbconvert_exporter": "python",
   "pygments_lexer": "ipython3",
   "version": "3.8.3"
  }
 },
 "nbformat": 4,
 "nbformat_minor": 4
}
